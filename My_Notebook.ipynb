{
 "cells": [
  {
   "cell_type": "markdown",
   "metadata": {},
   "source": [
    "Question:\n",
    "\n",
    "H0: Discounts do not have significant impact on Quantity\n",
    "\n",
    "Ha: Discounts do have a significant Impact on Quantity\n",
    "\n",
    "a = .05"
   ]
  },
  {
   "cell_type": "code",
   "execution_count": 3,
   "metadata": {},
   "outputs": [],
   "source": [
    "##Importing SQLlite to load the data set and eventually put into a DF for ease of sampling.\n",
    "import sqlite3 \n",
    "conn = sqlite3.connect('Northwind_small.sqlite')\n",
    "cur = conn.cursor()"
   ]
  },
  {
   "cell_type": "code",
   "execution_count": 4,
   "metadata": {},
   "outputs": [
    {
     "data": {
      "text/html": [
       "<div>\n",
       "<style scoped>\n",
       "    .dataframe tbody tr th:only-of-type {\n",
       "        vertical-align: middle;\n",
       "    }\n",
       "\n",
       "    .dataframe tbody tr th {\n",
       "        vertical-align: top;\n",
       "    }\n",
       "\n",
       "    .dataframe thead th {\n",
       "        text-align: right;\n",
       "    }\n",
       "</style>\n",
       "<table border=\"1\" class=\"dataframe\">\n",
       "  <thead>\n",
       "    <tr style=\"text-align: right;\">\n",
       "      <th></th>\n",
       "      <th>Quantity</th>\n",
       "      <th>Discount</th>\n",
       "    </tr>\n",
       "  </thead>\n",
       "  <tbody>\n",
       "    <tr>\n",
       "      <td>0</td>\n",
       "      <td>12</td>\n",
       "      <td>0.0</td>\n",
       "    </tr>\n",
       "    <tr>\n",
       "      <td>1</td>\n",
       "      <td>10</td>\n",
       "      <td>0.0</td>\n",
       "    </tr>\n",
       "    <tr>\n",
       "      <td>2</td>\n",
       "      <td>5</td>\n",
       "      <td>0.0</td>\n",
       "    </tr>\n",
       "    <tr>\n",
       "      <td>3</td>\n",
       "      <td>9</td>\n",
       "      <td>0.0</td>\n",
       "    </tr>\n",
       "    <tr>\n",
       "      <td>4</td>\n",
       "      <td>40</td>\n",
       "      <td>0.0</td>\n",
       "    </tr>\n",
       "  </tbody>\n",
       "</table>\n",
       "</div>"
      ],
      "text/plain": [
       "   Quantity  Discount\n",
       "0        12       0.0\n",
       "1        10       0.0\n",
       "2         5       0.0\n",
       "3         9       0.0\n",
       "4        40       0.0"
      ]
     },
     "execution_count": 4,
     "metadata": {},
     "output_type": "execute_result"
    }
   ],
   "source": [
    "##Using pandas to fetchall everything into a DF.\n",
    "import pandas as pd\n",
    "cur.execute(\"\"\"SELECT Quantity, Discount FROM OrderDetail;\"\"\")\n",
    "df1 = pd.DataFrame(cur.fetchall())\n",
    "df1.columns = [x[0] for x in cur.description]\n",
    "df1.head()"
   ]
  },
  {
   "cell_type": "code",
   "execution_count": 5,
   "metadata": {},
   "outputs": [],
   "source": [
    "#Creating a Sample of all quantities purchased on items where there is no discount.\n",
    "import numpy as np\n",
    "no_discount = pd.DataFrame(cur.execute(\"\"\"SELECT Quantity FROM OrderDetail WHERE Discount = 0.0;\"\"\"))"
   ]
  },
  {
   "cell_type": "code",
   "execution_count": 6,
   "metadata": {
    "scrolled": true
   },
   "outputs": [
    {
     "data": {
      "text/plain": [
       "<bound method DataFrame.info of        0\n",
       "0     12\n",
       "1     10\n",
       "2      5\n",
       "3      9\n",
       "4     40\n",
       "...   ..\n",
       "1312   2\n",
       "1313   2\n",
       "1314   1\n",
       "1315   4\n",
       "1316   2\n",
       "\n",
       "[1317 rows x 1 columns]>"
      ]
     },
     "execution_count": 6,
     "metadata": {},
     "output_type": "execute_result"
    }
   ],
   "source": [
    "no_discount.info"
   ]
  },
  {
   "cell_type": "code",
   "execution_count": 7,
   "metadata": {},
   "outputs": [
    {
     "data": {
      "text/plain": [
       "<bound method DataFrame.info of       0\n",
       "0    35\n",
       "1    15\n",
       "2     6\n",
       "3    15\n",
       "4    40\n",
       "..   ..\n",
       "833   2\n",
       "834   3\n",
       "835   2\n",
       "836   2\n",
       "837   2\n",
       "\n",
       "[838 rows x 1 columns]>"
      ]
     },
     "execution_count": 7,
     "metadata": {},
     "output_type": "execute_result"
    }
   ],
   "source": [
    "#Creating a sample array of values for quantties purchased if the item was discounted at any rate.\n",
    "discounted = pd.DataFrame(cur.execute(\"\"\"SELECT Quantity FROM OrderDetail WHERE Discount != 0.0;\"\"\"))\n",
    "discounted.info"
   ]
  },
  {
   "cell_type": "code",
   "execution_count": 8,
   "metadata": {},
   "outputs": [
    {
     "name": "stdout",
     "output_type": "stream",
     "text": [
      "(0.8434571027755737, 3.803856556577728e-34) (0.8690301179885864, 6.88120409395894e-26)\n"
     ]
    }
   ],
   "source": [
    "#Checking for normality in both of my sample populations using wilks-shapiro test.\n",
    "from scipy import stats\n",
    "from scipy.stats import shapiro\n",
    "data = no_discount\n",
    "data2 = discounted\n",
    "stat, p = shapiro(data)\n",
    "print(stats.shapiro(data), stats.shapiro(data2))"
   ]
  },
  {
   "cell_type": "markdown",
   "metadata": {},
   "source": [
    "Neither sample returns a P-value less than the alpha to reject the null hypothesis that the data is normal.\n",
    "\n",
    "I have now pulled my data, isolated samples based on discount value, and failed my normality test. Going to visualize the data first and then try to force normalization."
   ]
  },
  {
   "cell_type": "code",
   "execution_count": 57,
   "metadata": {},
   "outputs": [
    {
     "data": {
      "text/plain": [
       "array([[<matplotlib.axes._subplots.AxesSubplot object at 0x1a215d27d0>]],\n",
       "      dtype=object)"
      ]
     },
     "execution_count": 57,
     "metadata": {},
     "output_type": "execute_result"
    },
    {
     "data": {
      "image/png": "[encoded data removed]",
      "text/plain": [
       "<Figure size 432x432 with 1 Axes>"
      ]
     },
     "metadata": {
      "needs_background": "light"
     },
     "output_type": "display_data"
    }
   ],
   "source": [
    "#Visualizing the data.\n",
    "import matplotlib.pyplot as plt\n",
    "discounted.hist(figsize = [6, 6])"
   ]
  },
  {
   "cell_type": "code",
   "execution_count": 10,
   "metadata": {},
   "outputs": [
    {
     "data": {
      "text/plain": [
       "array([[<matplotlib.axes._subplots.AxesSubplot object at 0x1a2031d5d0>]],\n",
       "      dtype=object)"
      ]
     },
     "execution_count": 10,
     "metadata": {},
     "output_type": "execute_result"
    },
    {
     "data": {
      "image/png": "[encoded data removed]",
      "text/plain": [
       "<Figure size 432x432 with 1 Axes>"
      ]
     },
     "metadata": {
      "needs_background": "light"
     },
     "output_type": "display_data"
    }
   ],
   "source": [
    "no_discount.hist(figsize = [6, 6])"
   ]
  },
  {
   "cell_type": "code",
   "execution_count": 11,
   "metadata": {},
   "outputs": [
    {
     "name": "stdout",
     "output_type": "stream",
     "text": [
      "(0.9908283948898315, 0.010506429709494114) (array([15., 14., 39., 82., 74., 82., 79., 22.,  6.,  6.]), array([-2.50907916, -1.98733314, -1.46558712, -0.94384111, -0.42209509,\n",
      "        0.09965093,  0.62139695,  1.14314296,  1.66488898,  2.186635  ,\n",
      "        2.70838102]), <a list of 10 Patch objects>)\n"
     ]
    },
    {
     "data": {
      "image/png": "[encoded data removed]",
      "text/plain": [
       "<Figure size 432x288 with 1 Axes>"
      ]
     },
     "metadata": {
      "needs_background": "light"
     },
     "output_type": "display_data"
    }
   ],
   "source": [
    "#Performing logorithmic transformation to normalize the data.\n",
    "from sklearn.preprocessing import PowerTransformer\n",
    "from sklearn.model_selection import train_test_split\n",
    "yj = PowerTransformer(method='yeo-johnson')\n",
    "X_train, X_test = train_test_split(discounted, test_size=.5)\n",
    "discounted_yj = yj.fit(X_train).transform(X_test)\n",
    "#discounted_log = np.log(discounted)\n",
    "print(stats.shapiro(discounted_yj), plt.hist(discounted_yj))"
   ]
  },
  {
   "cell_type": "code",
   "execution_count": 12,
   "metadata": {
    "scrolled": true
   },
   "outputs": [
    {
     "name": "stdout",
     "output_type": "stream",
     "text": [
      "(0.9904764294624329, 0.00029053742764517665) (array([ 17.,  68.,  72., 153., 116., 137.,  58.,  27.,   5.,   6.]), array([-2.32768566, -1.78018253, -1.23267941, -0.68517628, -0.13767315,\n",
      "        0.40982997,  0.9573331 ,  1.50483623,  2.05233935,  2.59984248,\n",
      "        3.14734561]), <a list of 10 Patch objects>)\n"
     ]
    },
    {
     "data": {
      "image/png": "[encoded data removed]",
      "text/plain": [
       "<Figure size 432x288 with 1 Axes>"
      ]
     },
     "metadata": {
      "needs_background": "light"
     },
     "output_type": "display_data"
    }
   ],
   "source": [
    "#Replicating the transformation on the non-discounted quantities.\n",
    "#no_discount_log = np.log(no_discount)\n",
    "Y_train, Y_test = train_test_split(no_discount, test_size=.5)\n",
    "no_discount_yj = yj.fit(Y_train).transform(Y_test)\n",
    "print(stats.shapiro(no_discount_yj), plt.hist(no_discount_yj))"
   ]
  },
  {
   "cell_type": "code",
   "execution_count": 15,
   "metadata": {},
   "outputs": [],
   "source": [
    "# seed the random number generator so I get the same results\n",
    "np.random.seed(10)\n",
    "\n",
    "#Mean height and sd for discounted quantities\n",
    "discounted_mean = discounted.mean()\n",
    "discounted_sd = discounted.std()\n",
    "\n",
    "# Generate a normal distribution for discounted quantities\n",
    "discounted_rv = scipy.stats.norm(discounted_mean, discounted_sd)"
   ]
  },
  {
   "cell_type": "code",
   "execution_count": 16,
   "metadata": {},
   "outputs": [],
   "source": [
    "#Mean height and sd for non-discounted quantities\n",
    "no_discount_mean = no_discount.mean()\n",
    "no_discount_sd = no_discount.std()\n",
    "\n",
    "\n",
    "# Generate a normal distribution for non-discounted quantities\n",
    "no_discount_rv = scipy.stats.norm(no_discount_mean, no_discount_sd)"
   ]
  },
  {
   "cell_type": "code",
   "execution_count": 17,
   "metadata": {},
   "outputs": [
    {
     "name": "stdout",
     "output_type": "stream",
     "text": [
      "0    21.715262\n",
      "dtype: float64 0    17.507493\n",
      "dtype: float64 0    27.109785\n",
      "dtype: float64 0    20.771439\n",
      "dtype: float64\n"
     ]
    }
   ],
   "source": [
    "print(no_discount_mean, no_discount_sd, discounted_mean, discounted_sd)"
   ]
  },
  {
   "cell_type": "code",
   "execution_count": 18,
   "metadata": {},
   "outputs": [],
   "source": [
    "import scipy.stats\n",
    "%matplotlib inline\n",
    "def evaluate_PDF(rv, x=4):\n",
    "    '''Input: a random variable object, standard deviation\n",
    "    output : x and y values for the normal distribution\n",
    "    '''\n",
    "    \n",
    "    # Identify the mean and standard deviation of random variable \n",
    "    mean = rv.mean()\n",
    "    std = rv.std()\n",
    "\n",
    "    # Use numpy to calculate evenly spaced numbers over the specified interval (4 sd) and generate 100 samples.\n",
    "    xs = np.linspace(mean - x*std, mean + x*std, 100)\n",
    "    \n",
    "    # Calculate the peak of normal distribution i.e. probability density. \n",
    "    ys = rv.pdf(xs)\n",
    "\n",
    "    return xs, ys # Return calculated values"
   ]
  },
  {
   "cell_type": "code",
   "execution_count": 19,
   "metadata": {},
   "outputs": [
    {
     "data": {
      "text/plain": [
       "Text(0.5, 0, 'Quantity')"
      ]
     },
     "execution_count": 19,
     "metadata": {},
     "output_type": "execute_result"
    },
    {
     "data": {
      "image/png": "[encoded data removed]",
      "text/plain": [
       "<Figure size 432x288 with 1 Axes>"
      ]
     },
     "metadata": {
      "needs_background": "light"
     },
     "output_type": "display_data"
    }
   ],
   "source": [
    "#Discount\n",
    "xs, ys = evaluate_PDF(discounted_rv)\n",
    "plt.plot(xs, ys, label='discounted', linewidth=4, color='red') \n",
    "\n",
    "#No Discount\n",
    "xs, ys = evaluate_PDF(no_discount_rv)\n",
    "plt.plot(xs, ys, label='no_discount', linewidth=4, color='blue')\n",
    "\n",
    "plt.xlabel('Quantity')"
   ]
  },
  {
   "cell_type": "code",
   "execution_count": 20,
   "metadata": {},
   "outputs": [
    {
     "data": {
      "text/plain": [
       "(0    21.715262\n",
       " dtype: float64, 0    17.507493\n",
       " dtype: float64, 0    27.109785\n",
       " dtype: float64, 0    20.771439\n",
       " dtype: float64)"
      ]
     },
     "execution_count": 20,
     "metadata": {},
     "output_type": "execute_result"
    }
   ],
   "source": [
    "#Seeding a random sample size using my two sample populations as parameters to find Simple Effect Size\n",
    "discounted_sample = discounted_rv.rvs(1000)\n",
    "mean1, std1 = discounted.mean(), discounted.std()\n",
    "no_discount_sample = no_discount_rv.rvs(1000)\n",
    "mean2, std2 = no_discount.mean(), no_discount.std()\n",
    "mean2, std2, mean1, std1"
   ]
  },
  {
   "cell_type": "code",
   "execution_count": 21,
   "metadata": {},
   "outputs": [
    {
     "data": {
      "text/plain": [
       "0    5.394523\n",
       "dtype: float64"
      ]
     },
     "execution_count": 21,
     "metadata": {},
     "output_type": "execute_result"
    }
   ],
   "source": [
    "#Calculating the difference in means\n",
    "difference_in_means = discounted.mean() - no_discount.mean()\n",
    "difference_in_means"
   ]
  },
  {
   "cell_type": "code",
   "execution_count": 22,
   "metadata": {},
   "outputs": [
    {
     "data": {
      "text/plain": [
       "(0    19.898805\n",
       " dtype: float64, 0    24.842082\n",
       " dtype: float64)"
      ]
     },
     "execution_count": 22,
     "metadata": {},
     "output_type": "execute_result"
    }
   ],
   "source": [
    "#Now I'd like to find the magnitude of the difference and will start with looking at the relative difference\n",
    "#as a percentage\n",
    "relative_difference = difference_in_means / discounted.mean()\n",
    "relative_difference1 = difference_in_means / no_discount.mean()\n",
    "relative_difference * 100, relative_difference1 * 100"
   ]
  },
  {
   "cell_type": "markdown",
   "metadata": {},
   "source": [
    "So depending on which variable you weigh it against, there is approximately a 22% difference of effect in quantity\n",
    "purchased depending on if there is a discount. This seems significant although the P-score was much larger than the alpha to prove significance."
   ]
  },
  {
   "cell_type": "code",
   "execution_count": 23,
   "metadata": {},
   "outputs": [],
   "source": [
    "#Create function to detect overlap and probability of superiority\n",
    "def overlap_superiority(group1, group2, n=1000):\n",
    "    \"\"\"Estimates overlap and superiority based on a sample.\n",
    "    \n",
    "    group1: scipy.stats rv object\n",
    "    group2: scipy.stats rv object\n",
    "    n: sample size\n",
    "    \"\"\"\n",
    "\n",
    "    # Get a sample of size n from both groups\n",
    "    group1_sample = group1.rvs(n)\n",
    "    group2_sample = group2.rvs(n)\n",
    "    \n",
    "    # Identify the threshold between samples\n",
    "    thresh = (group1.mean() + group2.mean()) / 2\n",
    "    print(thresh)\n",
    "    \n",
    "    # Calculate no. of values above and below for group 1 and group 2 respectively\n",
    "    above = sum(group1_sample < thresh)\n",
    "    below = sum(group2_sample > thresh)\n",
    "    \n",
    "    # Calculate the overlap\n",
    "    overlap = (above + below) / n\n",
    "    \n",
    "    # Calculate probability of superiority\n",
    "    superiority = sum(x > y for x, y in zip(group1_sample, group2_sample)) / n\n",
    "\n",
    "    return overlap, superiority"
   ]
  },
  {
   "cell_type": "code",
   "execution_count": 24,
   "metadata": {},
   "outputs": [
    {
     "name": "stdout",
     "output_type": "stream",
     "text": [
      "[24.41252358]\n"
     ]
    },
    {
     "data": {
      "text/plain": [
       "(0.862, 0.571)"
      ]
     },
     "execution_count": 24,
     "metadata": {},
     "output_type": "execute_result"
    }
   ],
   "source": [
    "overlap_superiority(discounted_rv, no_discount_rv, n=1000)"
   ]
  },
  {
   "cell_type": "markdown",
   "metadata": {},
   "source": [
    "So we have an overlap of 86% (very high) and a 57% probability of superiority (relatively low)"
   ]
  },
  {
   "cell_type": "markdown",
   "metadata": {},
   "source": [
    "Finally, I want to measure effect size from a standardized perspective and will create a function for Cohen's D to\n",
    "do just that."
   ]
  },
  {
   "cell_type": "code",
   "execution_count": 25,
   "metadata": {},
   "outputs": [],
   "source": [
    "def Cohen_d(group1, group2):\n",
    "\n",
    "    # Compute Cohen's d.\n",
    "\n",
    "    # group1: Series or NumPy array\n",
    "    # group2: Series or NumPy array\n",
    "\n",
    "    # returns a floating point number \n",
    "\n",
    "    diff = group1.mean() - group2.mean()\n",
    "\n",
    "    n1, n2 = len(group1), len(group2)\n",
    "    var1 = group1.var()\n",
    "    var2 = group2.var()\n",
    "\n",
    "    # Calculate the pooled threshold as shown earlier\n",
    "    pooled_var = (n1 * var1 + n2 * var2) / (n1 + n2)\n",
    "    \n",
    "    # Calculate Cohen's d statistic\n",
    "    d = diff / np.sqrt(pooled_var)\n",
    "    \n",
    "    return d"
   ]
  },
  {
   "cell_type": "code",
   "execution_count": 26,
   "metadata": {},
   "outputs": [
    {
     "data": {
      "text/plain": [
       "0.2860842424285282"
      ]
     },
     "execution_count": 26,
     "metadata": {},
     "output_type": "execute_result"
    }
   ],
   "source": [
    "Cohen_d(discounted_sample, no_discount_sample)"
   ]
  },
  {
   "cell_type": "markdown",
   "metadata": {},
   "source": [
    "So we have a .28 standard deviations effect size difference between the two samples."
   ]
  },
  {
   "cell_type": "code",
   "execution_count": 27,
   "metadata": {},
   "outputs": [],
   "source": [
    "#Visualization function for Cohen's D\n",
    "def plot_pdfs(cohen_d=2):\n",
    "    \"\"\"Plot PDFs for distributions that differ by some number of stds.\n",
    "    \n",
    "    cohen_d: number of standard deviations between the means\n",
    "    \"\"\"\n",
    "    group1 = scipy.stats.norm(0, 1)\n",
    "    group2 = scipy.stats.norm(cohen_d, 1)\n",
    "    xs, ys = evaluate_PDF(group1)\n",
    "    plt.fill_between(xs, ys, label='Group1', color='#ff2289', alpha=0.7)\n",
    "\n",
    "    xs, ys = evaluate_PDF(group2)\n",
    "    plt.fill_between(xs, ys, label='Group2', color='#376cb0', alpha=0.7)\n",
    "    \n",
    "    o, s = overlap_superiority(group1, group2)\n",
    "    print('overlap', o)\n",
    "    print('superiority', s)"
   ]
  },
  {
   "cell_type": "code",
   "execution_count": 28,
   "metadata": {},
   "outputs": [
    {
     "name": "stdout",
     "output_type": "stream",
     "text": [
      "0.14\n",
      "overlap 1.106\n",
      "superiority 0.417\n"
     ]
    },
    {
     "data": {
      "image/png": "[encoded data removed]",
      "text/plain": [
       "<Figure size 432x288 with 1 Axes>"
      ]
     },
     "metadata": {
      "needs_background": "light"
     },
     "output_type": "display_data"
    }
   ],
   "source": [
    "plot_pdfs(.28)"
   ]
  },
  {
   "cell_type": "code",
   "execution_count": 29,
   "metadata": {},
   "outputs": [
    {
     "data": {
      "text/plain": [
       "0.4731820872613352"
      ]
     },
     "execution_count": 29,
     "metadata": {},
     "output_type": "execute_result"
    }
   ],
   "source": [
    "#Now that the data is normalized, I will go through the steps to define and run Welch's T-Test on my data\n",
    "#as the sample sizes are > 30 by a long-shot and they are also not equal.\n",
    "def welch_t(a, b):\n",
    "    \n",
    "    \"\"\" Calculate Welch's t statistic for two samples. \"\"\"\n",
    "\n",
    "    numerator = a.mean() - b.mean()\n",
    "    \n",
    "    # “ddof = Delta Degrees of Freedom”: the divisor used in the calculation is N - ddof, \n",
    "    #  where N represents the number of elements. By default ddof is zero.\n",
    "    \n",
    "    denominator = np.sqrt(a.var(ddof=1)/a.size + b.var(ddof=1)/b.size)\n",
    "    \n",
    "    return np.abs(numerator/denominator)\n",
    "\n",
    "welch_t(discounted_yj, no_discount_yj)"
   ]
  },
  {
   "cell_type": "code",
   "execution_count": 30,
   "metadata": {},
   "outputs": [
    {
     "data": {
      "text/plain": [
       "908.1145243970324"
      ]
     },
     "execution_count": 30,
     "metadata": {},
     "output_type": "execute_result"
    }
   ],
   "source": [
    "def welch_df(a, b):\n",
    "    \n",
    "    \"\"\" Calculate the effective degrees of freedom for two samples. \"\"\"\n",
    "    \n",
    "    s1 = a.var(ddof=1) \n",
    "    s2 = b.var(ddof=1)\n",
    "    n1 = a.size\n",
    "    n2 = b.size\n",
    "    \n",
    "    numerator = (s1/n1 + s2/n2)**2\n",
    "    denominator = (s1/ n1)**2/(n1 - 1) + (s2/ n2)**2/(n2 - 1)\n",
    "    \n",
    "    return numerator/denominator\n",
    "\n",
    "welch_df(discounted_yj, no_discount_yj)"
   ]
  },
  {
   "cell_type": "code",
   "execution_count": 31,
   "metadata": {},
   "outputs": [],
   "source": [
    "t = welch_t(discounted_yj, no_discount_yj)\n",
    "df = welch_df(discounted_yj, no_discount_yj)"
   ]
  },
  {
   "cell_type": "code",
   "execution_count": 32,
   "metadata": {},
   "outputs": [],
   "source": [
    "import scipy.stats as stats\n",
    "def p_value(a, b, two_sided=False):\n",
    "\n",
    "    t = welch_t(a, b)\n",
    "    df = welch_df(a, b)\n",
    "    \n",
    "    p = 1-stats.t.cdf(np.abs(t), df)\n",
    "    \n",
    "    if two_sided:\n",
    "        return 2*p\n",
    "    else:\n",
    "        return p"
   ]
  },
  {
   "cell_type": "code",
   "execution_count": 35,
   "metadata": {
    "scrolled": true
   },
   "outputs": [
    {
     "data": {
      "text/plain": [
       "0.31809849624052855"
      ]
     },
     "execution_count": 35,
     "metadata": {},
     "output_type": "execute_result"
    }
   ],
   "source": [
    "p_value(discounted_yj, no_discount_yj, two_sided=False)"
   ]
  },
  {
   "cell_type": "markdown",
   "metadata": {},
   "source": [
    "I can conclude that because the P-Value is greater than the alpha, I cannot reject the null hypothesis.\n",
    "\n",
    "Additionally, the effect scores indicate that a discount is not very effective to measure effect and has far too much overlap to be considered significant."
   ]
  },
  {
   "cell_type": "markdown",
   "metadata": {},
   "source": [
    "Second Question:\n",
    "\n",
    "What Effect Sizes are present amongst the different levels of discounts"
   ]
  },
  {
   "cell_type": "code",
   "execution_count": 114,
   "metadata": {},
   "outputs": [
    {
     "data": {
      "text/plain": [
       "0.00    1317\n",
       "0.05     185\n",
       "0.10     173\n",
       "0.20     161\n",
       "0.15     157\n",
       "0.25     154\n",
       "0.03       3\n",
       "0.02       2\n",
       "0.01       1\n",
       "0.04       1\n",
       "0.06       1\n",
       "Name: Discount, dtype: int64"
      ]
     },
     "execution_count": 114,
     "metadata": {},
     "output_type": "execute_result"
    }
   ],
   "source": [
    "#Inspect different discount levels\n",
    "df1.Discount.value_counts()"
   ]
  },
  {
   "cell_type": "code",
   "execution_count": 115,
   "metadata": {},
   "outputs": [],
   "source": [
    "#Create different Sample Sizes by Discount level\n",
    "six_and_under = pd.DataFrame(cur.execute(\"\"\"SELECT Quantity FROM OrderDetail WHERE Discount <= 0.06;\"\"\"))\n",
    "ten_percent = pd.DataFrame(cur.execute(\"\"\"SELECT Quantity FROM OrderDetail WHERE Discount = 0.10;\"\"\"))\n",
    "twenty_percent = pd.DataFrame(cur.execute(\"\"\"SELECT Quantity FROM OrderDetail WHERE Discount = 0.20;\"\"\"))\n",
    "fifteen_percent = pd.DataFrame(cur.execute(\"\"\"SELECT Quantity FROM OrderDetail WHERE Discount = 0.15;\"\"\"))\n",
    "twenty_five_plus = pd.DataFrame(cur.execute(\"\"\"SELECT Quantity FROM OrderDetail WHERE Discount = 0.25;\"\"\"))"
   ]
  },
  {
   "cell_type": "code",
   "execution_count": 116,
   "metadata": {},
   "outputs": [
    {
     "name": "stdout",
     "output_type": "stream",
     "text": [
      "six_and_under 0.06603886659739111\n",
      "ten_percent 0.3549941212371839\n",
      "twenty_percent 0.2910217135873263\n",
      "fifteen_percent 0.005887991732916875\n",
      "twenty_five_plus 0.15705726034048417\n"
     ]
    }
   ],
   "source": [
    "#Create a loop to inspect all of the sample sizes using Yeo_Johnson Normalization model and train-test split...\n",
    "#analyzing P values\n",
    "np.random.seed(10)\n",
    "distributions = [\n",
    "    ('six_and_under', six_and_under),\n",
    "    ('ten_percent', ten_percent),\n",
    "    ('twenty_percent', twenty_percent),\n",
    "    ('fifteen_percent', fifteen_percent),\n",
    "    ('twenty_five_plus', twenty_five_plus)\n",
    "]\n",
    "for distribution in distributions:\n",
    "    name, Z = distribution\n",
    "    Z_train, Z_test = train_test_split(Z, test_size=.5)\n",
    "    Z_trans_yj = yj.fit(Z_train).transform(Z_test)\n",
    "    print(name, p_value(Z_trans_yj, no_discount_yj))"
   ]
  },
  {
   "cell_type": "markdown",
   "metadata": {},
   "source": [
    "The only statistically signifacant category of discounts, where we can reject the null hypothesis is when the discount is 25% or higher. The next closes, with a P value of .06 (just missing the alpha value) is the 20% off category.\n",
    "\n",
    "Interestingly, the 6% and under category is more significant that either the 10 or 15% categories."
   ]
  },
  {
   "cell_type": "code",
   "execution_count": 39,
   "metadata": {},
   "outputs": [
    {
     "data": {
      "text/plain": [
       "0.034364241801685"
      ]
     },
     "execution_count": 39,
     "metadata": {},
     "output_type": "execute_result"
    }
   ],
   "source": [
    "#<= 6% Effect Size Analysis vs. No Discount\n",
    "np.random.seed(10)\n",
    "six_and_under_mean = six_and_under.mean()\n",
    "six_and_under_std = six_and_under.std()\n",
    "six_and_under_rv = scipy.stats.norm(six_and_under_mean, six_and_under_std)\n",
    "six_and_under_sample = six_and_under_rv.rvs(1000)\n",
    "Cohen_d(six_and_under_sample, no_discount_sample)"
   ]
  },
  {
   "cell_type": "code",
   "execution_count": 40,
   "metadata": {},
   "outputs": [
    {
     "data": {
      "text/plain": [
       "0.35338642776219414"
      ]
     },
     "execution_count": 40,
     "metadata": {},
     "output_type": "execute_result"
    }
   ],
   "source": [
    "#15% Effect Size Analysis vs. No Discount\n",
    "np.random.seed(10)\n",
    "fifteen_percent_mean = fifteen_percent.mean()\n",
    "fifteen_percent_std = fifteen_percent.std()\n",
    "fifteen_percent_rv = scipy.stats.norm(fifteen_percent_mean, fifteen_percent_std)\n",
    "fifteen_percent_sample = fifteen_percent_rv.rvs(1000)\n",
    "Cohen_d(fifteen_percent_sample, no_discount_sample)"
   ]
  },
  {
   "cell_type": "code",
   "execution_count": 41,
   "metadata": {},
   "outputs": [
    {
     "data": {
      "text/plain": [
       "0.18237186628436483"
      ]
     },
     "execution_count": 41,
     "metadata": {},
     "output_type": "execute_result"
    }
   ],
   "source": [
    "#10% Effect Size Analysis vs. No Discount\n",
    "np.random.seed(10)\n",
    "ten_percent_mean = ten_percent.mean()\n",
    "ten_percent_std = ten_percent.std()\n",
    "ten_percent_rv = scipy.stats.norm(ten_percent_mean, ten_percent_std)\n",
    "ten_percent_sample = ten_percent_rv.rvs(1000)\n",
    "Cohen_d(ten_percent_sample, no_discount_sample)"
   ]
  },
  {
   "cell_type": "code",
   "execution_count": 42,
   "metadata": {},
   "outputs": [
    {
     "data": {
      "text/plain": [
       "0.29814360691695124"
      ]
     },
     "execution_count": 42,
     "metadata": {},
     "output_type": "execute_result"
    }
   ],
   "source": [
    "#20% Effect Size Analysis vs. No Discount\n",
    "np.random.seed(10)\n",
    "twenty_percent_mean = twenty_percent.mean()\n",
    "twenty_percent_std = twenty_percent.std()\n",
    "twenty_percent_rv = scipy.stats.norm(twenty_percent_mean, twenty_percent_std)\n",
    "twenty_percent_sample = twenty_percent_rv.rvs(1000)\n",
    "Cohen_d(twenty_percent_sample, no_discount_sample)"
   ]
  },
  {
   "cell_type": "code",
   "execution_count": 43,
   "metadata": {},
   "outputs": [
    {
     "data": {
      "text/plain": [
       "0.3538956805577152"
      ]
     },
     "execution_count": 43,
     "metadata": {},
     "output_type": "execute_result"
    }
   ],
   "source": [
    "#>= 25% Effect Size Analysis vs. No Discount\n",
    "np.random.seed(10)\n",
    "twenty_five_plus_mean = twenty_five_plus.mean()\n",
    "twenty_five_plus_std = twenty_five_plus.std()\n",
    "twenty_five_plus_rv = scipy.stats.norm(twenty_five_plus_mean, twenty_five_plus_std)\n",
    "twenty_five_plus_sample = twenty_five_plus_rv.rvs(1000)\n",
    "Cohen_d(twenty_five_plus_sample, no_discount_sample)"
   ]
  },
  {
   "cell_type": "code",
   "execution_count": 117,
   "metadata": {
    "scrolled": true
   },
   "outputs": [
    {
     "name": "stdout",
     "output_type": "stream",
     "text": [
      "0    22.380795\n",
      "dtype: float64 0    25.236994\n",
      "dtype: float64 0    28.382166\n",
      "dtype: float64 0    27.024845\n",
      "dtype: float64 0    28.24026\n",
      "dtype: float64\n"
     ]
    }
   ],
   "source": [
    "#Review differences in mean for presentation\n",
    "print(six_and_under_mean, ten_percent_mean, fifteen_percent_mean, twenty_percent_mean, twenty_five_plus_mean)"
   ]
  },
  {
   "cell_type": "code",
   "execution_count": 86,
   "metadata": {},
   "outputs": [
    {
     "data": {
      "text/plain": [
       "(0    23.105304\n",
       " dtype: float64, 0    30.047981\n",
       " dtype: float64)"
      ]
     },
     "execution_count": 86,
     "metadata": {},
     "output_type": "execute_result"
    }
   ],
   "source": [
    "difference_in_means2 = twenty_five_plus_mean - no_discount.mean()\n",
    "\n",
    "#Now I'd like to find the magnitude of the difference and will start with looking at the relative difference\n",
    "#as a percentage for the largest group\n",
    "relative_difference2 = difference_in_means2 / twenty_five_plus.mean()\n",
    "relative_difference3 = difference_in_means2 / no_discount.mean()\n",
    "relative_difference2 * 100, relative_difference3 * 100"
   ]
  },
  {
   "cell_type": "markdown",
   "metadata": {},
   "source": [
    "So all in all, fairly effective differences in these values. Below is the largest significance visualization (25% discount)."
   ]
  },
  {
   "cell_type": "code",
   "execution_count": 44,
   "metadata": {},
   "outputs": [
    {
     "name": "stdout",
     "output_type": "stream",
     "text": [
      "0.176945\n",
      "overlap 1.142\n",
      "superiority 0.41\n"
     ]
    },
    {
     "data": {
      "image/png": "[encoded data removed]",
      "text/plain": [
       "<Figure size 432x288 with 1 Axes>"
      ]
     },
     "metadata": {
      "needs_background": "light"
     },
     "output_type": "display_data"
    }
   ],
   "source": [
    "plot_pdfs(.35389)"
   ]
  },
  {
   "cell_type": "markdown",
   "metadata": {},
   "source": [
    "Now I'm going to begin working on my own question #1.\n",
    "\n",
    "H0 = There is no difference in Quantity of Items Sold in an Order based on the Country of the Employee doing the selling.\n",
    "\n",
    "Ha = There is a significant difference between Quantity of Items sold in an Order based on Employee's being from the USA.\n",
    "\n",
    "a = .05"
   ]
  },
  {
   "cell_type": "code",
   "execution_count": 47,
   "metadata": {
    "scrolled": true
   },
   "outputs": [
    {
     "data": {
      "text/html": [
       "<div>\n",
       "<style scoped>\n",
       "    .dataframe tbody tr th:only-of-type {\n",
       "        vertical-align: middle;\n",
       "    }\n",
       "\n",
       "    .dataframe tbody tr th {\n",
       "        vertical-align: top;\n",
       "    }\n",
       "\n",
       "    .dataframe thead th {\n",
       "        text-align: right;\n",
       "    }\n",
       "</style>\n",
       "<table border=\"1\" class=\"dataframe\">\n",
       "  <thead>\n",
       "    <tr style=\"text-align: right;\">\n",
       "      <th></th>\n",
       "      <th>UnitPrice</th>\n",
       "    </tr>\n",
       "  </thead>\n",
       "  <tbody>\n",
       "    <tr>\n",
       "      <td>0</td>\n",
       "      <td>7.7</td>\n",
       "    </tr>\n",
       "    <tr>\n",
       "      <td>1</td>\n",
       "      <td>16.8</td>\n",
       "    </tr>\n",
       "    <tr>\n",
       "      <td>2</td>\n",
       "      <td>64.8</td>\n",
       "    </tr>\n",
       "    <tr>\n",
       "      <td>3</td>\n",
       "      <td>10.0</td>\n",
       "    </tr>\n",
       "    <tr>\n",
       "      <td>4</td>\n",
       "      <td>26.2</td>\n",
       "    </tr>\n",
       "  </tbody>\n",
       "</table>\n",
       "</div>"
      ],
      "text/plain": [
       "   UnitPrice\n",
       "0        7.7\n",
       "1       16.8\n",
       "2       64.8\n",
       "3       10.0\n",
       "4       26.2"
      ]
     },
     "execution_count": 47,
     "metadata": {},
     "output_type": "execute_result"
    }
   ],
   "source": [
    "#Connect to the database and create sample sizes for country = 'USA' and Not\n",
    "conn = sqlite3.connect('Northwind_small.sqlite')\n",
    "cur = conn.cursor()\n",
    "cur.execute(\"\"\"SELECT OD.UnitPrice FROM \"Order\" O\n",
    "                Inner JOIN OrderDetail OD on O.ID = OD.OrderID\n",
    "                Left Join Employee E on O.EmployeeID = E.ID\n",
    "                Where E.Country = 'USA'\n",
    "                Group By OD.OrderID;\n",
    "               \"\"\")\n",
    "Q1_USA = pd.DataFrame(cur.fetchall())\n",
    "Q1_USA.columns = [x[0] for x in cur.description]\n",
    "Q1_USA.head()"
   ]
  },
  {
   "cell_type": "code",
   "execution_count": 48,
   "metadata": {
    "scrolled": true
   },
   "outputs": [
    {
     "name": "stdout",
     "output_type": "stream",
     "text": [
      "<class 'pandas.core.frame.DataFrame'>\n",
      "RangeIndex: 606 entries, 0 to 605\n",
      "Data columns (total 1 columns):\n",
      "UnitPrice    606 non-null float64\n",
      "dtypes: float64(1)\n",
      "memory usage: 4.9 KB\n"
     ]
    }
   ],
   "source": [
    "Q1_USA.info()"
   ]
  },
  {
   "cell_type": "code",
   "execution_count": 49,
   "metadata": {},
   "outputs": [
    {
     "data": {
      "text/html": [
       "<div>\n",
       "<style scoped>\n",
       "    .dataframe tbody tr th:only-of-type {\n",
       "        vertical-align: middle;\n",
       "    }\n",
       "\n",
       "    .dataframe tbody tr th {\n",
       "        vertical-align: top;\n",
       "    }\n",
       "\n",
       "    .dataframe thead th {\n",
       "        text-align: right;\n",
       "    }\n",
       "</style>\n",
       "<table border=\"1\" class=\"dataframe\">\n",
       "  <thead>\n",
       "    <tr style=\"text-align: right;\">\n",
       "      <th></th>\n",
       "      <th>UnitPrice</th>\n",
       "    </tr>\n",
       "  </thead>\n",
       "  <tbody>\n",
       "    <tr>\n",
       "      <td>0</td>\n",
       "      <td>14.0</td>\n",
       "    </tr>\n",
       "    <tr>\n",
       "      <td>1</td>\n",
       "      <td>18.6</td>\n",
       "    </tr>\n",
       "    <tr>\n",
       "      <td>2</td>\n",
       "      <td>3.6</td>\n",
       "    </tr>\n",
       "    <tr>\n",
       "      <td>3</td>\n",
       "      <td>15.2</td>\n",
       "    </tr>\n",
       "    <tr>\n",
       "      <td>4</td>\n",
       "      <td>13.9</td>\n",
       "    </tr>\n",
       "  </tbody>\n",
       "</table>\n",
       "</div>"
      ],
      "text/plain": [
       "   UnitPrice\n",
       "0       14.0\n",
       "1       18.6\n",
       "2        3.6\n",
       "3       15.2\n",
       "4       13.9"
      ]
     },
     "execution_count": 49,
     "metadata": {},
     "output_type": "execute_result"
    }
   ],
   "source": [
    "cur.execute(\"\"\"SELECT OD.UnitPrice FROM \"Order\" O\n",
    "                Inner JOIN OrderDetail OD on O.ID = OD.OrderID\n",
    "                Left Join Employee E on O.EmployeeID = E.ID\n",
    "                Where E.Country != 'USA'\n",
    "                Group By OD.OrderID;\n",
    "               \"\"\")\n",
    "Q1_UK = pd.DataFrame(cur.fetchall())\n",
    "Q1_UK.columns = [x[0] for x in cur.description]\n",
    "Q1_UK.head()"
   ]
  },
  {
   "cell_type": "code",
   "execution_count": 50,
   "metadata": {},
   "outputs": [],
   "source": [
    "# seed the random number generator so I get the same results\n",
    "np.random.seed(10)\n",
    "\n",
    "#Mean height and sd for discounted quantities\n",
    "Q1_UK_mean = Q1_UK.mean()\n",
    "Q1_UK_sd = Q1_UK.std()\n",
    "\n",
    "# Generate a normal distribution for discounted quantities\n",
    "Q1_UK_rv = scipy.stats.norm(Q1_UK_mean, Q1_UK_sd)\n",
    "\n",
    "#Mean height and sd for discounted quantities\n",
    "Q1_USA_mean = Q1_USA.mean()\n",
    "Q1_USA_sd = Q1_USA.std()\n",
    "\n",
    "# Generate a normal distribution for discounted quantities\n",
    "Q1_USA_rv = scipy.stats.norm(Q1_USA_mean, Q1_USA_sd)"
   ]
  },
  {
   "cell_type": "code",
   "execution_count": 64,
   "metadata": {},
   "outputs": [
    {
     "data": {
      "text/plain": [
       "Text(0.5, 0, 'Quantity')"
      ]
     },
     "execution_count": 64,
     "metadata": {},
     "output_type": "execute_result"
    },
    {
     "data": {
      "image/png": "[encoded data removed]",
      "text/plain": [
       "<Figure size 432x288 with 1 Axes>"
      ]
     },
     "metadata": {
      "needs_background": "light"
     },
     "output_type": "display_data"
    }
   ],
   "source": [
    "#Discount\n",
    "xs, ys = evaluate_PDF(Q1_USA_rv)\n",
    "plt.plot(xs, ys, label='discounted', linewidth=4, color='violet') \n",
    "\n",
    "#No Discount\n",
    "xs, ys = evaluate_PDF(Q1_UK_rv)\n",
    "plt.plot(xs, ys, label='no_discount', linewidth=4, color='green')\n",
    "\n",
    "plt.xlabel('Quantity')"
   ]
  },
  {
   "cell_type": "markdown",
   "metadata": {},
   "source": [
    "Now I'm going to begin working on my own question #2.\n",
    "\n",
    "H0 = There is no difference in Quantity of Items Sold vs. Unit Price below or equal to 26 (mean)\n",
    "\n",
    "Ha = There is a significant difference between Quantity of Items sold vs. Unit Price below or equal to 26 (mean)\n",
    "\n",
    "a = .05"
   ]
  },
  {
   "cell_type": "code",
   "execution_count": 93,
   "metadata": {},
   "outputs": [],
   "source": [
    "Q2_twentysix_below = pd.DataFrame(cur.execute(\"\"\"SELECT Quantity FROM OrderDetail\n",
    "                                                Where UnitPrice <= 26.00;\"\"\"))"
   ]
  },
  {
   "cell_type": "code",
   "execution_count": 94,
   "metadata": {},
   "outputs": [],
   "source": [
    "Q2_greaterthan_twentysix = pd.DataFrame(cur.execute(\"\"\"SELECT Quantity FROM OrderDetail\n",
    "                                                    Where UnitPrice > 26.00;\"\"\"))"
   ]
  },
  {
   "cell_type": "code",
   "execution_count": 100,
   "metadata": {},
   "outputs": [],
   "source": [
    "# seed the random number generator so I get the same results\n",
    "np.random.seed(10)\n",
    "\n",
    "#Mean height and sd for discounted quantities\n",
    "Q2_twentysix_below_mean = Q2_twentysix_below.mean()\n",
    "Q2_twentysix_below_sd = Q2_twentysix_below.std()\n",
    "\n",
    "# Generate a normal distribution for discounted quantities\n",
    "Q2_twentysix_below_rv = scipy.stats.norm(Q2_twentysix_below_mean, Q2_twentysix_below_sd)"
   ]
  },
  {
   "cell_type": "code",
   "execution_count": 101,
   "metadata": {},
   "outputs": [],
   "source": [
    "# seed the random number generator so I get the same results\n",
    "np.random.seed(10)\n",
    "\n",
    "#Mean height and sd for discounted quantities\n",
    "Q2_greaterthan_twentysix_mean = Q2_greaterthan_twentysix.mean()\n",
    "Q2_greaterthan_twentysix_sd = Q2_greaterthan_twentysix.std()\n",
    "\n",
    "# Generate a normal distribution for discounted quantities\n",
    "Q2_greaterthan_twentysix_rv = scipy.stats.norm(Q2_greaterthan_twentysix_mean, Q2_greaterthan_twentysix_sd)"
   ]
  },
  {
   "cell_type": "code",
   "execution_count": 102,
   "metadata": {
    "scrolled": true
   },
   "outputs": [
    {
     "data": {
      "text/plain": [
       "Text(0.5, 0, 'Quantity')"
      ]
     },
     "execution_count": 102,
     "metadata": {},
     "output_type": "execute_result"
    },
    {
     "data": {
      "image/png": "[encoded data removed]",
      "text/plain": [
       "<Figure size 432x288 with 1 Axes>"
      ]
     },
     "metadata": {
      "needs_background": "light"
     },
     "output_type": "display_data"
    }
   ],
   "source": [
    "#Discount\n",
    "xs, ys = evaluate_PDF(Q2_twentysix_below_rv)\n",
    "plt.plot(xs, ys, label='discounted', linewidth=4, color='red') \n",
    "\n",
    "#No Discount\n",
    "xs, ys = evaluate_PDF(Q2_greaterthan_twentysix_rv)\n",
    "plt.plot(xs, ys, label='no_discount', linewidth=4, color='blue')\n",
    "\n",
    "plt.xlabel('Quantity')"
   ]
  },
  {
   "cell_type": "markdown",
   "metadata": {},
   "source": [
    "Now I'm going to begin working on my own question #3.\n",
    "\n",
    "H0 = There is no difference in Quantity of Items Sold vs. Country of Origin for the Supplier\n",
    "\n",
    "Ha = There is a significant difference between Quantity of Items sold vs. Country of Origin for the Supplier\n",
    "\n",
    "a = .05"
   ]
  },
  {
   "cell_type": "code",
   "execution_count": 76,
   "metadata": {},
   "outputs": [
    {
     "data": {
      "text/html": [
       "<div>\n",
       "<style scoped>\n",
       "    .dataframe tbody tr th:only-of-type {\n",
       "        vertical-align: middle;\n",
       "    }\n",
       "\n",
       "    .dataframe tbody tr th {\n",
       "        vertical-align: top;\n",
       "    }\n",
       "\n",
       "    .dataframe thead th {\n",
       "        text-align: right;\n",
       "    }\n",
       "</style>\n",
       "<table border=\"1\" class=\"dataframe\">\n",
       "  <thead>\n",
       "    <tr style=\"text-align: right;\">\n",
       "      <th></th>\n",
       "      <th>Quantity</th>\n",
       "    </tr>\n",
       "  </thead>\n",
       "  <tbody>\n",
       "    <tr>\n",
       "      <td>0</td>\n",
       "      <td>10</td>\n",
       "    </tr>\n",
       "    <tr>\n",
       "      <td>1</td>\n",
       "      <td>15</td>\n",
       "    </tr>\n",
       "    <tr>\n",
       "      <td>2</td>\n",
       "      <td>20</td>\n",
       "    </tr>\n",
       "    <tr>\n",
       "      <td>3</td>\n",
       "      <td>65</td>\n",
       "    </tr>\n",
       "    <tr>\n",
       "      <td>4</td>\n",
       "      <td>16</td>\n",
       "    </tr>\n",
       "  </tbody>\n",
       "</table>\n",
       "</div>"
      ],
      "text/plain": [
       "   Quantity\n",
       "0        10\n",
       "1        15\n",
       "2        20\n",
       "3        65\n",
       "4        16"
      ]
     },
     "execution_count": 76,
     "metadata": {},
     "output_type": "execute_result"
    }
   ],
   "source": [
    "cur.execute(\"\"\"SELECT Quantity FROM OrderDetail OD\n",
    "                Inner Join Product P on P.ID = OD.ProductID\n",
    "                Inner Join Supplier S on S.ID = P.SupplierID\n",
    "                Where S.Country = 'USA';\n",
    "               \"\"\")\n",
    "Q3_USA = pd.DataFrame(cur.fetchall())\n",
    "Q3_USA.columns = [x[0] for x in cur.description]\n",
    "Q3_USA.head()"
   ]
  },
  {
   "cell_type": "code",
   "execution_count": 78,
   "metadata": {},
   "outputs": [
    {
     "name": "stdout",
     "output_type": "stream",
     "text": [
      "<class 'pandas.core.frame.DataFrame'>\n",
      "RangeIndex: 277 entries, 0 to 276\n",
      "Data columns (total 1 columns):\n",
      "Quantity    277 non-null int64\n",
      "dtypes: int64(1)\n",
      "memory usage: 2.3 KB\n"
     ]
    }
   ],
   "source": [
    "Q3_USA.info()"
   ]
  },
  {
   "cell_type": "code",
   "execution_count": 73,
   "metadata": {},
   "outputs": [
    {
     "data": {
      "text/html": [
       "<div>\n",
       "<style scoped>\n",
       "    .dataframe tbody tr th:only-of-type {\n",
       "        vertical-align: middle;\n",
       "    }\n",
       "\n",
       "    .dataframe tbody tr th {\n",
       "        vertical-align: top;\n",
       "    }\n",
       "\n",
       "    .dataframe thead th {\n",
       "        text-align: right;\n",
       "    }\n",
       "</style>\n",
       "<table border=\"1\" class=\"dataframe\">\n",
       "  <thead>\n",
       "    <tr style=\"text-align: right;\">\n",
       "      <th></th>\n",
       "      <th>Quantity</th>\n",
       "    </tr>\n",
       "  </thead>\n",
       "  <tbody>\n",
       "    <tr>\n",
       "      <td>0</td>\n",
       "      <td>9</td>\n",
       "    </tr>\n",
       "    <tr>\n",
       "      <td>1</td>\n",
       "      <td>21</td>\n",
       "    </tr>\n",
       "    <tr>\n",
       "      <td>2</td>\n",
       "      <td>36</td>\n",
       "    </tr>\n",
       "    <tr>\n",
       "      <td>3</td>\n",
       "      <td>24</td>\n",
       "    </tr>\n",
       "    <tr>\n",
       "      <td>4</td>\n",
       "      <td>15</td>\n",
       "    </tr>\n",
       "  </tbody>\n",
       "</table>\n",
       "</div>"
      ],
      "text/plain": [
       "   Quantity\n",
       "0         9\n",
       "1        21\n",
       "2        36\n",
       "3        24\n",
       "4        15"
      ]
     },
     "execution_count": 73,
     "metadata": {},
     "output_type": "execute_result"
    }
   ],
   "source": [
    "cur.execute(\"\"\"SELECT Quantity FROM OrderDetail OD\n",
    "                Inner Join Product P on P.ID = OD.ProductID\n",
    "                Inner Join Supplier S on S.ID = P.SupplierID\n",
    "                Where S.Country = 'Japan';\n",
    "               \"\"\")\n",
    "Q3_Jap = pd.DataFrame(cur.fetchall())\n",
    "Q3_Jap.columns = [x[0] for x in cur.description]\n",
    "Q3_Jap.head()"
   ]
  },
  {
   "cell_type": "code",
   "execution_count": 79,
   "metadata": {
    "scrolled": true
   },
   "outputs": [
    {
     "name": "stdout",
     "output_type": "stream",
     "text": [
      "<class 'pandas.core.frame.DataFrame'>\n",
      "RangeIndex: 220 entries, 0 to 219\n",
      "Data columns (total 1 columns):\n",
      "Quantity    220 non-null int64\n",
      "dtypes: int64(1)\n",
      "memory usage: 1.8 KB\n",
      "<class 'pandas.core.frame.DataFrame'>\n",
      "RangeIndex: 52 entries, 0 to 51\n",
      "Data columns (total 1 columns):\n",
      "Quantity    52 non-null int64\n",
      "dtypes: int64(1)\n",
      "memory usage: 544.0 bytes\n",
      "None None\n"
     ]
    }
   ],
   "source": [
    "cur.execute(\"\"\"SELECT Quantity FROM OrderDetail OD\n",
    "                Inner Join Product P on P.ID = OD.ProductID\n",
    "                Inner Join Supplier S on S.ID = P.SupplierID\n",
    "                Where S.Country = 'Spain';\n",
    "               \"\"\")\n",
    "Q3_Spain = pd.DataFrame(cur.fetchall())\n",
    "Q3_Spain.columns = [x[0] for x in cur.description]\n",
    "cur.execute(\"\"\"SELECT Quantity FROM OrderDetail OD\n",
    "                Inner Join Product P on P.ID = OD.ProductID\n",
    "                Inner Join Supplier S on S.ID = P.SupplierID\n",
    "                Where S.Country = 'UK';\n",
    "               \"\"\")\n",
    "Q3_UK = pd.DataFrame(cur.fetchall())\n",
    "Q3_UK.columns = [x[0] for x in cur.description]\n",
    "print(Q3_UK.info(), Q3_Spain.info())"
   ]
  },
  {
   "cell_type": "code",
   "execution_count": 84,
   "metadata": {},
   "outputs": [],
   "source": [
    "# seed the random number generator so I get the same results\n",
    "np.random.seed(10)\n",
    "\n",
    "#Mean height and sd for discounted quantities\n",
    "Q3_USA_mean = Q3_USA.mean()\n",
    "Q3_USA_sd = Q3_USA.std()\n",
    "\n",
    "# Generate a normal distribution for USA\n",
    "Q3_USA_rv = scipy.stats.norm(Q3_USA_mean, Q3_USA_sd)\n",
    "\n",
    "#Mean height and sd for discounted quantities\n",
    "Q3_Jap_mean = Q3_Jap.mean()\n",
    "Q3_Jap_sd = Q3_Jap.std()\n",
    "\n",
    "# Generate a normal distribution for USA\n",
    "Q3_Jap_rv = scipy.stats.norm(Q3_Jap_mean, Q3_Jap_sd)\n",
    "\n",
    "#Mean height and sd for discounted quantities\n",
    "Q3_Spain_mean = Q3_Spain.mean()\n",
    "Q3_Spain_sd = Q3_Spain.std()\n",
    "\n",
    "# Generate a normal distribution for USA\n",
    "Q3_Spain_rv = scipy.stats.norm(Q3_Spain_mean, Q3_Spain_sd)\n",
    "\n",
    "#Mean height and sd for discounted quantities\n",
    "Q3_UK_mean = Q3_UK.mean()\n",
    "Q3_UK_sd = Q3_UK.std()\n",
    "\n",
    "# Generate a normal distribution for USA\n",
    "Q3_UK_rv = scipy.stats.norm(Q3_UK_mean, Q3_UK_sd)"
   ]
  },
  {
   "cell_type": "code",
   "execution_count": 85,
   "metadata": {},
   "outputs": [
    {
     "data": {
      "text/plain": [
       "Text(0.5, 0, 'Quantity')"
      ]
     },
     "execution_count": 85,
     "metadata": {},
     "output_type": "execute_result"
    },
    {
     "data": {
      "image/png": "[encoded data removed]",
      "text/plain": [
       "<Figure size 432x288 with 1 Axes>"
      ]
     },
     "metadata": {
      "needs_background": "light"
     },
     "output_type": "display_data"
    }
   ],
   "source": [
    "#USA\n",
    "xs, ys = evaluate_PDF(Q3_USA_rv)\n",
    "plt.plot(xs, ys, label='discounted', linewidth=4, color='red') \n",
    "\n",
    "#Japan\n",
    "xs, ys = evaluate_PDF(Q3_Jap_rv)\n",
    "plt.plot(xs, ys, label='no_discount', linewidth=4, color='blue')\n",
    "\n",
    "#Spain\n",
    "xs, ys = evaluate_PDF(Q3_Spain_rv)\n",
    "plt.plot(xs, ys, label='no_discount', linewidth=4, color='orange')\n",
    "\n",
    "#UK\n",
    "xs, ys = evaluate_PDF(Q3_UK_rv)\n",
    "plt.plot(xs, ys, label='no_discount', linewidth=4, color='Purple')\n",
    "\n",
    "plt.xlabel('Quantity')"
   ]
  },
  {
   "cell_type": "code",
   "execution_count": 113,
   "metadata": {},
   "outputs": [
    {
     "data": {
      "text/plain": [
       "Quantity    13.033948\n",
       "dtype: float64"
      ]
     },
     "execution_count": 113,
     "metadata": {},
     "output_type": "execute_result"
    }
   ],
   "source": [
    "(Q3_USA_mean - Q3_Jap_mean) / Q3_USA_mean * 100"
   ]
  },
  {
   "cell_type": "code",
   "execution_count": 125,
   "metadata": {},
   "outputs": [],
   "source": [
    "#Creating random samples from my populations to run against Cohen's D\n",
    "Q3_USA_sample = Q3_USA_rv.rvs(1000)\n",
    "Q3_Jap_sample = Q3_Jap_rv.rvs(1000)\n",
    "Q3_Spain_sample = Q3_Spain_rv.rvs(1000)\n",
    "Q3_UK_sample = Q3_UK_rv.rvs(1000)"
   ]
  },
  {
   "cell_type": "code",
   "execution_count": 126,
   "metadata": {},
   "outputs": [
    {
     "data": {
      "text/plain": [
       "0.1263318275296065"
      ]
     },
     "execution_count": 126,
     "metadata": {},
     "output_type": "execute_result"
    }
   ],
   "source": [
    "Cohen_d(Q3_USA_sample, no_discount_sample)"
   ]
  },
  {
   "cell_type": "code",
   "execution_count": 127,
   "metadata": {},
   "outputs": [
    {
     "data": {
      "text/plain": [
       "-0.012855248438220078"
      ]
     },
     "execution_count": 127,
     "metadata": {},
     "output_type": "execute_result"
    }
   ],
   "source": [
    "Cohen_d(Q3_Jap_sample, no_discount_sample)"
   ]
  },
  {
   "cell_type": "code",
   "execution_count": 128,
   "metadata": {},
   "outputs": [
    {
     "data": {
      "text/plain": [
       "-0.12622426743024112"
      ]
     },
     "execution_count": 128,
     "metadata": {},
     "output_type": "execute_result"
    }
   ],
   "source": [
    "Cohen_d(Q3_Spain_sample, no_discount_sample)"
   ]
  },
  {
   "cell_type": "code",
   "execution_count": 129,
   "metadata": {},
   "outputs": [
    {
     "data": {
      "text/plain": [
       "0.04781186830765736"
      ]
     },
     "execution_count": 129,
     "metadata": {},
     "output_type": "execute_result"
    }
   ],
   "source": [
    "Cohen_d(Q3_UK_sample, no_discount_sample)"
   ]
  },
  {
   "cell_type": "markdown",
   "metadata": {},
   "source": [
    "Conclusions:\n",
    "\n",
    "-Any Discount has about a 22% efect increase on quantity sold according to Welch's T and Cohen's D's tests.\n",
    "\n",
    "-Discount level of 25% and 15% have highest increase in quantity sold effect (27%) vs. no-discount groups\n",
    "\n",
    "-Employee Country of sale has no significant, nor effective impact on quantity sold\n",
    "\n",
    "-Unit Price below or over the mean does not have any significant nor effective impact on quantity sold either.\n",
    "\n",
    "-Products whose suppliers are based in the USA have a 13% effective impact on quantity sold according to Cohen's D statistical test."
   ]
  }
 ],
 "metadata": {
  "kernelspec": {
   "display_name": "Python 3",
   "language": "python",
   "name": "python3"
  }
 },
 "nbformat": 4,
 "nbformat_minor": 2
}
